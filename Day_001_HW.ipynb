{
 "cells": [
  {
   "cell_type": "markdown",
   "metadata": {},
   "source": [
    "## 練習時間\n",
    "#### 請寫一個函式用來計算 Mean Square Error\n",
    "$ MSE = \\frac{1}{n}\\sum_{i=1}^{n}{(Y_i - \\hat{Y}_i)^2} $\n",
    "\n",
    "### Hint: [如何取平方](https://googoodesign.gitbooks.io/-ezpython/unit-1.html)"
   ]
  },
  {
   "cell_type": "markdown",
   "metadata": {},
   "source": [
    "# [作業目標]\n",
    "- 仿造範例的MAE函數, 自己寫一個MSE函數(參考上面公式)"
   ]
  },
  {
   "cell_type": "markdown",
   "metadata": {},
   "source": [
    "# [作業重點]\n",
    "- 注意程式的縮排\n",
    "- 是否能將數學公式, 轉換為 Python 的函式組合? (In[2], Out[2])"
   ]
  },
  {
   "cell_type": "code",
   "execution_count": 22,
   "metadata": {},
   "outputs": [],
   "source": [
    "# 載入基礎套件與代稱\n",
    "import numpy as np\n",
    "import matplotlib.pyplot as plt\n",
    "import math"
   ]
  },
  {
   "cell_type": "code",
   "execution_count": 23,
   "metadata": {},
   "outputs": [],
   "source": [
    "def mean_absolute_error(y, yp):\n",
    "    \"\"\"\n",
    "    計算 MAE\n",
    "    Args:\n",
    "        - y: 實際值\n",
    "        - yp: 預測值\n",
    "    Return:\n",
    "        - mae: MAE\n",
    "    \"\"\"\n",
    "    mae = MAE = sum(abs(y - yp)) / len(y)\n",
    "    return mae\n",
    "\n",
    "# 定義 mean_squared_error 這個函數, 計算並傳回 MSE\n",
    "def mean_squared_error(y, yp):\n",
    "    mse = MSE = sum((y - yp)** 2) / len(y)\n",
    "    return mse\n",
    "    \"\"\"\n",
    "    請完成這個 Function 後往下執行\n",
    "    \"\"\""
   ]
  },
  {
   "cell_type": "code",
   "execution_count": 24,
   "metadata": {},
   "outputs": [
    {
     "data": {
      "image/png": "[encoded data removed]",
      "text/plain": [
       "<Figure size 432x288 with 1 Axes>"
      ]
     },
     "metadata": {
      "needs_background": "light"
     },
     "output_type": "display_data"
    }
   ],
   "source": [
    "# 與範例相同, 不另外解說\n",
    "w = 3\n",
    "b = 0.5\n",
    "x_lin = np.linspace(0, 100, 101)\n",
    "y = (x_lin + np.random.randn(101) * 5) * w + b\n",
    "\n",
    "plt.plot(x_lin, y, 'b.', label = 'data points')\n",
    "plt.title(\"Assume we have data points\")\n",
    "plt.legend(loc = 2)\n",
    "plt.show()"
   ]
  },
  {
   "cell_type": "code",
   "execution_count": 25,
   "metadata": {},
   "outputs": [
    {
     "data": {
      "image/png": "[encoded data removed]",
      "text/plain": [
       "<Figure size 432x288 with 1 Axes>"
      ]
     },
     "metadata": {
      "needs_background": "light"
     },
     "output_type": "display_data"
    }
   ],
   "source": [
    "# 與範例相同, 不另外解說\n",
    "y_hat = x_lin * w + b\n",
    "plt.plot(x_lin, y, 'b.', label = 'data')\n",
    "plt.plot(x_lin, y_hat, 'r-', label = 'prediction')\n",
    "plt.title(\"Assume we have data points (And the prediction)\")\n",
    "plt.legend(loc = 2)\n",
    "plt.show()"
   ]
  },
  {
   "cell_type": "code",
   "execution_count": 26,
   "metadata": {},
   "outputs": [
    {
     "name": "stdout",
     "output_type": "stream",
     "text": [
      "The Mean squared error is 248.710\n",
      "The Mean absolute error is 12.099\n"
     ]
    }
   ],
   "source": [
    "# 執行 Function, 確認有沒有正常執行\n",
    "MSE = mean_squared_error(y, y_hat)\n",
    "MAE = mean_absolute_error(y, y_hat)\n",
    "print(\"The Mean squared error is %.3f\" % (MSE))\n",
    "print(\"The Mean absolute error is %.3f\" % (MAE))"
   ]
  },
  {
   "cell_type": "markdown",
   "metadata": {},
   "source": [
    "# [作業2]\n",
    "\n",
    "請上 Kaggle, 在 Competitions 或 Dataset 中找一組競賽或資料並寫下：\n",
    "\n",
    "1. 你選的這組資料為何重要\n",
    "<font color=#00FFFF size=8>\n",
    "<p>Ans:</p>\n",
    "<p>OSIC Pulmonary Fibrosis Progression</p>\n",
    "<p>Predict lung function decline</p>\n",
    "<p>對醫學界很有貢獻</p>\n",
    "</font>\n",
    "\n",
    "<br>\n",
    "2. 資料從何而來 (tips: 譬如提供者是誰、以什麼方式蒐集)\n",
    "<font color=#00FFFF size=8>\n",
    "<p>Ans:</p>\n",
    "<p>資料提供者為 Open Source Imaging Consortium (OSIC)</p>\n",
    "<p>OSIC 以一到兩年病人的就診時紀錄CT掃描和FVC測量來進行資料蒐集。</p>\n",
    "</font>\n",
    "\n",
    "<br>\n",
    "3. 蒐集而來的資料型態為何\n",
    "<font color=#00FFFF size=8>\n",
    "<p>Ans:</p>\n",
    "<p>結構化： 數值、表格</p>\n",
    "<p>非結構化：圖像（DICOM format）</p>\n",
    "</font>\n",
    "\n",
    "<br>\n",
    "4. 這組資料想解決的問題如何評估\n",
    "<font color=#00FFFF size=8>\n",
    "<p>Ans:</p>\n",
    "<p>Submissions to this competition must be made through Notebooks. In order for the \"Submit to Competition\" button to be active after a commit, the following conditions must be met:</p>\n",
    "<p>CPU Notebook <= 9 hours run-time</p>\n",
    "<p>GPU Notebook <= 4 hours run-time</p>\n",
    "<p>TPUs will not be available for making submissions to this competition. You are still welcome to use them for training models.</p>\n",
    "<p>No internet access enabled</p>\n",
    "<p>External data, freely & publicly available, is allowed. This includes pre-trained models.</p>\n",
    "<p>Submission file must be named submission.csv</p>\n",
    "</font>\n",
    "\n",
    "<br>\n",
    "# [作業3]\n",
    "\n",
    "想像你經營一個自由載客車隊，你希望能透過數據分析以提升業績，請你思考並描述你如何規劃整體的分析/解決方案：\n",
    "\n",
    "<br>\n",
    "1. 核心問題為何 (tips：如何定義 「提升業績 & 你的假設」)\n",
    "<font color=#00FFFF size=8>\n",
    "<p>Ans: 如何降低空車率來提昇業績</p>\n",
    "</font>\n",
    "\n",
    "<br>\n",
    "2. 資料從何而來 (tips：哪些資料可能會對你想問的問題產生影響 & 資料如何蒐集)\n",
    "<font color=#00FFFF size=8>\n",
    "<p>Ans: </p>\n",
    "<p>1)天氣因素-中央氣象局</p>\n",
    "<p>2)司機行為-車隊系統平台統計資料</p>\n",
    "<p>3)石油價格-台灣中油公司公告</p>\n",
    "<p>4)人民收入-行政院主計總處</p>\n",
    "<p>5)疫情因素-依據Worldometer資料庫統計</p>\n",
    "</font>\n",
    "\n",
    "<br>\n",
    "3. 蒐集而來的資料型態為何\n",
    "<font color=#00FFFF size=8>\n",
    "<p>Ans:</p>\n",
    "<p>結構化：數值、表格...等</p>\n",
    "</font>\n",
    "\n",
    "<br>\n",
    "4. 你要回答的問題，其如何評估 (tips：你的假設如何驗證)\n",
    "<font color=#00FFFF size=8>\n",
    "<p>Ans:</p>\n",
    "<p>不同的司機行為->在個人因素(司機行為)、環境因素(天氣因素、石油價、人民收入和疫情因素)互相排列組合分析->收入多少來判定空車率因而帶動提昇業績</p>\n",
    "</font>"
   ]
  },
  {
   "cell_type": "code",
   "execution_count": null,
   "metadata": {},
   "outputs": [],
   "source": []
  }
 ],
 "metadata": {
  "anaconda-cloud": {},
  "kernelspec": {
   "display_name": "Python 3",
   "language": "python",
   "name": "python3"
  },
  "language_info": {
   "codemirror_mode": {
    "name": "ipython",
    "version": 3
   },
   "file_extension": ".py",
   "mimetype": "text/x-python",
   "name": "python",
   "nbconvert_exporter": "python",
   "pygments_lexer": "ipython3",
   "version": "3.7.6"
  }
 },
 "nbformat": 4,
 "nbformat_minor": 4
}
